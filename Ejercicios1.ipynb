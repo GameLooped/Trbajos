{
  "nbformat": 4,
  "nbformat_minor": 0,
  "metadata": {
    "colab": {
      "provenance": [],
      "authorship_tag": "ABX9TyPkPtWPWi1tWCazTUg16x6G",
      "include_colab_link": true
    },
    "kernelspec": {
      "name": "python3",
      "display_name": "Python 3"
    },
    "language_info": {
      "name": "python"
    }
  },
  "cells": [
    {
      "cell_type": "markdown",
      "metadata": {
        "id": "view-in-github",
        "colab_type": "text"
      },
      "source": [
        "<a href=\"https://colab.research.google.com/github/GameLooped/Trbajos/blob/main/Ejercicios1.ipynb\" target=\"_parent\"><img src=\"https://colab.research.google.com/assets/colab-badge.svg\" alt=\"Open In Colab\"/></a>"
      ]
    },
    {
      "cell_type": "code",
      "source": [
        "import numpy as np\n",
        "#pip install numpy"
      ],
      "metadata": {
        "id": "Zk81M_bGIBZk"
      },
      "execution_count": null,
      "outputs": []
    },
    {
      "cell_type": "markdown",
      "source": [
        "EJERCICIO 1"
      ],
      "metadata": {
        "id": "FTPa3_dtMQ3D"
      }
    },
    {
      "cell_type": "code",
      "source": [
        "curso = np.array ([\"Matemáticas\", \"Física\", \"Química\", \"Historia\", \"Lengua\"])\n",
        "print(curso)"
      ],
      "metadata": {
        "colab": {
          "base_uri": "https://localhost:8080/"
        },
        "id": "PKqtB2NVJVtN",
        "outputId": "8dad0b84-45c4-4d35-a7e0-8b2c66a375fd"
      },
      "execution_count": null,
      "outputs": [
        {
          "output_type": "stream",
          "name": "stdout",
          "text": [
            "['Matemáticas' 'Física' 'Química' 'Historia' 'Lengua']\n"
          ]
        }
      ]
    },
    {
      "cell_type": "markdown",
      "source": [
        "EJERCICIO 2"
      ],
      "metadata": {
        "id": "C610GOKOMTy7"
      }
    },
    {
      "cell_type": "code",
      "metadata": {
        "colab": {
          "base_uri": "https://localhost:8080/"
        },
        "outputId": "795452a8-ff28-4701-c749-a574f9c6760e",
        "id": "SIKhwpQmPM6-"
      },
      "source": [
        "Asignaturas = [\"Matemáticas\", \"Física\", \"Química\", \"Historia\", \"Lengua\"]\n",
        "\n",
        "for Asignatura in Asignaturas:\n",
        "  print(\"Yo estudio\", Asignatura, \"donde\", Asignatura, \"es cada una de las asignaturas de la lista.\")"
      ],
      "execution_count": null,
      "outputs": [
        {
          "output_type": "stream",
          "name": "stdout",
          "text": [
            "Yo estudio Matemáticas donde Matemáticas es cada una de las asignaturas de la lista.\n",
            "Yo estudio Física donde Física es cada una de las asignaturas de la lista.\n",
            "Yo estudio Química donde Química es cada una de las asignaturas de la lista.\n",
            "Yo estudio Historia donde Historia es cada una de las asignaturas de la lista.\n",
            "Yo estudio Lengua donde Lengua es cada una de las asignaturas de la lista.\n"
          ]
        }
      ]
    },
    {
      "cell_type": "markdown",
      "source": [
        "EJERCICIO 3"
      ],
      "metadata": {
        "id": "wouw5PBgPupz"
      }
    },
    {
      "cell_type": "code",
      "metadata": {
        "colab": {
          "base_uri": "https://localhost:8080/"
        },
        "id": "bV6iFISnQNUe",
        "outputId": "2c4daa79-5223-4d67-dc44-19a780aff162"
      },
      "source": [
        "Asignaturas = [\"Matemáticas\", \"Física\", \"Química\", \"Historia\", \"Lengua\"]\n",
        "notas = []\n",
        "\n",
        "for Asignatura in Asignaturas:\n",
        "  nota = input(f\"¿Qué nota has sacado en {Asignatura}? \")\n",
        "  notas.append(nota)\n",
        "\n",
        "print(\"\\n--- Resumen de notas ---\")\n",
        "for i in range(len(Asignaturas)):\n",
        "  print(f\"En {Asignaturas[i]} has sacado {notas[i]}\")\n"
      ],
      "execution_count": null,
      "outputs": [
        {
          "output_type": "stream",
          "name": "stdout",
          "text": [
            "¿Qué nota has sacado en Matemáticas? 12\n",
            "¿Qué nota has sacado en Física? 10\n",
            "¿Qué nota has sacado en Química? 15\n",
            "¿Qué nota has sacado en Historia? 05\n",
            "¿Qué nota has sacado en Lengua? 20\n",
            "\n",
            "--- Resumen de notas ---\n",
            "En Matemáticas has sacado 12\n",
            "En Física has sacado 10\n",
            "En Química has sacado 15\n",
            "En Historia has sacado 05\n",
            "En Lengua has sacado 20\n"
          ]
        }
      ]
    },
    {
      "cell_type": "markdown",
      "source": [
        "EJERCICIO 4"
      ],
      "metadata": {
        "id": "sZqqMB61Qmzr"
      }
    },
    {
      "cell_type": "code",
      "metadata": {
        "colab": {
          "base_uri": "https://localhost:8080/"
        },
        "id": "xbaNn3nrRypO",
        "outputId": "d5fe32b8-7330-42b3-f574-e5aa870e5c88"
      },
      "source": [
        "numeros_loteria = []\n",
        "\n",
        "print(\"Por favor, ingresa los 5 números ganadores de la lotería primitiva:\")\n",
        "\n",
        "for i in range(5):\n",
        "  while True:\n",
        "    try:\n",
        "      numero = int(input(f\"Ingresa el número {i+1}: \"))\n",
        "      numeros_loteria.append(numero)\n",
        "      break\n",
        "    except ValueError:\n",
        "      print(\"Entrada no válida. Por favor, ingresa un número entero.\")\n",
        "\n",
        "\n",
        "numeros_loteria.sort()\n",
        "\n",
        "print(\"\\nLos números ganadores de la lotería ordenados de menor a mayor son:\")\n",
        "print(numeros_loteria)"
      ],
      "execution_count": null,
      "outputs": [
        {
          "output_type": "stream",
          "name": "stdout",
          "text": [
            "Por favor, ingresa los 5 números ganadores de la lotería primitiva:\n",
            "Ingresa el número 1: 15\n",
            "Ingresa el número 2: 21\n",
            "Ingresa el número 3: 500\n",
            "Ingresa el número 4: 14\n",
            "Ingresa el número 5: 01\n",
            "\n",
            "Los números ganadores de la lotería ordenados de menor a mayor son:\n",
            "[1, 14, 15, 21, 500]\n"
          ]
        }
      ]
    },
    {
      "cell_type": "markdown",
      "source": [
        "EJERCICIO 5"
      ],
      "metadata": {
        "id": "JabUURViSNCR"
      }
    },
    {
      "cell_type": "code",
      "source": [],
      "metadata": {
        "id": "2TLPX3dZSXiM"
      },
      "execution_count": null,
      "outputs": []
    },
    {
      "cell_type": "code",
      "metadata": {
        "colab": {
          "base_uri": "https://localhost:8080/"
        },
        "id": "Ln7nOZZrShG7",
        "outputId": "b6c28162-3cd2-4b58-df66-5b3e611014b8"
      },
      "source": [
        "n = list(range(1, 11))\n",
        "n.reverse()\n",
        "\n",
        "print(\",\".join(map(str, n)))"
      ],
      "execution_count": null,
      "outputs": [
        {
          "output_type": "stream",
          "name": "stdout",
          "text": [
            "10,9,8,7,6,5,4,3,2,1\n"
          ]
        }
      ]
    },
    {
      "cell_type": "markdown",
      "source": [
        "EJERCICIO 6"
      ],
      "metadata": {
        "id": "fdv6j58wTD0D"
      }
    },
    {
      "cell_type": "code",
      "metadata": {
        "id": "7634d284",
        "colab": {
          "base_uri": "https://localhost:8080/"
        },
        "outputId": "4556adb4-9a15-423e-dcc1-aaa71b5ea72d"
      },
      "source": [
        "asignaturas = [\"Matemáticas\", \"Física\", \"Química\", \"Historia\", \"Lengua\"]\n",
        "notas = {}\n",
        "\n",
        "print(\"Por favor, ingresa la nota obtenida en cada asignatura:\")\n",
        "for asignatura in asignaturas:\n",
        "  while True:\n",
        "    try:\n",
        "      nota = float(input(f\"Nota en {asignatura}: \"))\n",
        "      notas[asignatura] = nota\n",
        "      break\n",
        "    except ValueError:\n",
        "      print(\"Entrada no válida. Por favor, ingresa un número para la nota.\")\n",
        "\n",
        "asignaturas_a_repetir = []\n",
        "nota_minima_aprobado = 10.0\n",
        "\n",
        "for asignatura, nota in notas.items():\n",
        "  if nota < nota_minima_aprobado:\n",
        "    asignaturas_a_repetir.append(asignatura)\n",
        "\n",
        "if asignaturas_a_repetir:\n",
        "  print(\"\\n--- Asignaturas a repetir ---\")\n",
        "  for asignatura in asignaturas_a_repetir:\n",
        "    print(asignatura)\n",
        "else:\n",
        "  print(\"¡Felicidades! Has aprobado todas las asignaturas.\")"
      ],
      "execution_count": null,
      "outputs": [
        {
          "output_type": "stream",
          "name": "stdout",
          "text": [
            "Por favor, ingresa la nota obtenida en cada asignatura:\n",
            "Nota en Matemáticas: 15\n",
            "Nota en Física: 02\n",
            "Nota en Química: 02\n",
            "Nota en Historia: 15\n",
            "Nota en Lengua: 03\n",
            "\n",
            "--- Asignaturas a repetir ---\n",
            "Física\n",
            "Química\n",
            "Lengua\n"
          ]
        }
      ]
    },
    {
      "cell_type": "markdown",
      "source": [],
      "metadata": {
        "id": "9NGcXeG7Xj9A"
      }
    },
    {
      "cell_type": "markdown",
      "source": [
        "EJERCICIO 7"
      ],
      "metadata": {
        "id": "qfFMrb66Ul95"
      }
    },
    {
      "cell_type": "code",
      "metadata": {
        "id": "b5182dcd",
        "colab": {
          "base_uri": "https://localhost:8080/"
        },
        "outputId": "1b143903-a92a-427a-98bb-98dc81dd5ba1"
      },
      "source": [
        "import string\n",
        "abecedario = list(string.ascii_lowercase)\n",
        "abecedario_filtrado = [letra for i, letra in enumerate(abecedario) if (i + 1) % 3 != 0]\n",
        "print(abecedario_filtrado)"
      ],
      "execution_count": null,
      "outputs": [
        {
          "output_type": "stream",
          "name": "stdout",
          "text": [
            "['a', 'b', 'd', 'e', 'g', 'h', 'j', 'k', 'm', 'n', 'p', 'q', 's', 't', 'v', 'w', 'y', 'z']\n"
          ]
        }
      ]
    },
    {
      "cell_type": "markdown",
      "source": [
        "EJERCICIO 8"
      ],
      "metadata": {
        "id": "-nGdh5lLVvrR"
      }
    },
    {
      "cell_type": "code",
      "metadata": {
        "id": "e262b390",
        "colab": {
          "base_uri": "https://localhost:8080/"
        },
        "outputId": "c275bfd2-2f97-4c5c-ab69-2e50000fa1d1"
      },
      "source": [
        "palabra = input(\"Ingresa una palabra para verificar si es un palíndromo: \")\n",
        "palabra_procesada = palabra.replace(\" \", \"\").lower()\n",
        "palabra_invertida = \"\".join(reversed(palabra_procesada))\n",
        "\n",
        "if palabra_procesada == palabra_invertida:\n",
        "  print(f\"La palabra '{palabra}' es un palíndromo.\")\n",
        "else:\n",
        "  print(f\"La palabra '{palabra}' no es un palíndromo.\")"
      ],
      "execution_count": null,
      "outputs": [
        {
          "output_type": "stream",
          "name": "stdout",
          "text": [
            "Ingresa una palabra para verificar si es un palíndromo: RecOnocer\n",
            "La palabra 'RecOnocer' es un palíndromo.\n"
          ]
        }
      ]
    },
    {
      "cell_type": "markdown",
      "source": [
        "EJERCICIO 9"
      ],
      "metadata": {
        "id": "htRlNmU-WlVY"
      }
    },
    {
      "cell_type": "code",
      "metadata": {
        "id": "3072223f",
        "colab": {
          "base_uri": "https://localhost:8080/"
        },
        "outputId": "82176d2b-dc1f-441f-8797-175822a6c6c1"
      },
      "source": [
        "palabra = input(\"Ingresa una palabra para contar sus vocales: \")\n",
        "palabra = palabra.lower()\n",
        "\n",
        "conteo_vocales = {'a': 0, 'e': 0, 'i': 0, 'o': 0, 'u': 0}\n",
        "\n",
        "for caracter in palabra:\n",
        "  if caracter in conteo_vocales:\n",
        "    conteo_vocales[caracter] += 1\n",
        "print(\"\\nResultado del conteo de vocales:\")\n",
        "for vocal, cantidad in conteo_vocales.items():\n",
        "  print(f\"'{vocal}': {cantidad}\")"
      ],
      "execution_count": null,
      "outputs": [
        {
          "output_type": "stream",
          "name": "stdout",
          "text": [
            "Ingresa una palabra para contar sus vocales: HermeneguildoRuperezzza\n",
            "\n",
            "Resultado del conteo de vocales:\n",
            "'a': 1\n",
            "'e': 5\n",
            "'i': 1\n",
            "'o': 1\n",
            "'u': 2\n"
          ]
        }
      ]
    },
    {
      "cell_type": "markdown",
      "source": [
        "EJERCICIO 10"
      ],
      "metadata": {
        "id": "AOwIoDmPXvrQ"
      }
    },
    {
      "cell_type": "markdown",
      "source": [
        "EJERCICIO 11"
      ],
      "metadata": {
        "id": "SSRe9pDkY10o"
      }
    },
    {
      "cell_type": "code",
      "source": [
        "vector1 = [1, 2, 3]\n",
        "vector2 = [-1, 0, 2]\n",
        "producto_escalar = sum(v1 * v2 for v1, v2 in zip(vector1, vector2))\n",
        "print(f\"El producto escalar de {vector1} y {vector2} es: {producto_escalar}\")"
      ],
      "metadata": {
        "colab": {
          "base_uri": "https://localhost:8080/"
        },
        "id": "yJ0To1wWY53_",
        "outputId": "1197d38e-f7b2-460f-b689-d4a714986471"
      },
      "execution_count": null,
      "outputs": [
        {
          "output_type": "stream",
          "name": "stdout",
          "text": [
            "El producto escalar de [1, 2, 3] y [-1, 0, 2] es: 5\n"
          ]
        }
      ]
    },
    {
      "cell_type": "markdown",
      "source": [
        "EJERCICIO 12"
      ],
      "metadata": {
        "id": "YvE6i2CHZHGR"
      }
    },
    {
      "cell_type": "code",
      "metadata": {
        "id": "7391342d",
        "colab": {
          "base_uri": "https://localhost:8080/"
        },
        "outputId": "6f2391f8-5798-4ade-d6f3-989c536143c0"
      },
      "source": [
        "matriz1 = np.array([[1, 2],[3, 4]])\n",
        "matriz2 = np.array([[5, 6],[7, 8]])\n",
        "lista_de_matrices = [matriz1, matriz2]\n",
        "producto_matrices = lista_de_matrices[0] @ lista_de_matrices[1]\n",
        "print(\"Matriz 1:\")\n",
        "print(lista_de_matrices[0])\n",
        "print(\"\\nMatriz 2:\")\n",
        "print(lista_de_matrices[1])\n",
        "print(\"\\nEl producto de las matrices es:\")\n",
        "print(producto_matrices)"
      ],
      "execution_count": null,
      "outputs": [
        {
          "output_type": "stream",
          "name": "stdout",
          "text": [
            "Matriz 1:\n",
            "[[1 2]\n",
            " [3 4]]\n",
            "\n",
            "Matriz 2:\n",
            "[[5 6]\n",
            " [7 8]]\n",
            "\n",
            "El producto de las matrices es:\n",
            "[[19 22]\n",
            " [43 50]]\n"
          ]
        }
      ]
    },
    {
      "cell_type": "markdown",
      "source": [
        "EJERCICIO 13"
      ],
      "metadata": {
        "id": "H4_2ruePacXX"
      }
    },
    {
      "cell_type": "code",
      "source": [
        "\n",
        "muestra_str = input(\"Ingresa una muestra de números separados por comas: \")\n",
        "numeros_str = muestra_str.split(',')\n",
        "\n",
        "try:\n",
        "  numeros = [float(num.strip()) for num in numeros_str]\n",
        "\n",
        "  if not numeros:\n",
        "    print(\"No se ingresaron números.\")\n",
        "  else:\n",
        "    media = np.mean(numeros)\n",
        "    desviacion_tipica = np.std(numeros)\n",
        "    print(f\"\\nLa media de la muestra es: {media:.2f}\")\n",
        "    print(f\"La desviación típica de la muestra es: {desviacion_tipica:.2f}\")\n",
        "except ValueError:\n",
        "  print(\"Error: Asegúrate de ingresar números válidos separados por comas.\")"
      ],
      "metadata": {
        "colab": {
          "base_uri": "https://localhost:8080/"
        },
        "id": "MNyC4DqcaeFf",
        "outputId": "4affc628-7b2d-4227-c71f-daab39476a86"
      },
      "execution_count": null,
      "outputs": [
        {
          "output_type": "stream",
          "name": "stdout",
          "text": [
            "Ingresa una muestra de números separados por comas: 45, 68, 87\n",
            "\n",
            "La media de la muestra es: 66.67\n",
            "La desviación típica de la muestra es: 17.17\n"
          ]
        }
      ]
    }
  ]
}